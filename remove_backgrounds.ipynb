{
 "cells": [
  {
   "cell_type": "code",
   "execution_count": null,
   "id": "5b7c5f2d",
   "metadata": {},
   "outputs": [],
   "source": [
    "from rembg import remove\n",
    "from PIL import Image\n",
    "import glob\n",
    "\n",
    "# path_in -> folder of input images\n",
    "# path_out -> folder where background-removed images should be outputted \n",
    "def my_remove(path_in, path_out):\n",
    "    images = glob.glob(path_in)\n",
    "\n",
    "    index = 0\n",
    "    for image in images:\n",
    "        index += 1\n",
    "        input_path = image\n",
    "        output_path = path_out + str(index) + '.png'\n",
    "\n",
    "        my_input = Image.open(input_path)\n",
    "        output = remove(my_input) # remove function from rembg\n",
    "        output.save(output_path)"
   ]
  },
  {
   "cell_type": "code",
   "execution_count": null,
   "id": "a0fee406",
   "metadata": {},
   "outputs": [],
   "source": [
    "# path_in = \"C:\\\\Users\\\\<userid>\\\\Documents\\\\Data Science\\\\nerf-folder\\\\bgrem\\\\final_chip/*.jpg\"\n",
    "# path_out = 'C:\\\\Users\\\\<userid>\\\\Documents\\\\Data Science\\\\nerf-folder\\\\bgrem\\\\test\\\\output_img'"
   ]
  },
  {
   "cell_type": "code",
   "execution_count": null,
   "id": "2c2434f2",
   "metadata": {},
   "outputs": [],
   "source": [
    "my_remove(path_in, path_out)"
   ]
  },
  {
   "cell_type": "code",
   "execution_count": null,
   "id": "280dd274",
   "metadata": {},
   "outputs": [],
   "source": []
  }
 ],
 "metadata": {
  "kernelspec": {
   "display_name": "Python 3 (ipykernel)",
   "language": "python",
   "name": "python3"
  },
  "language_info": {
   "codemirror_mode": {
    "name": "ipython",
    "version": 3
   },
   "file_extension": ".py",
   "mimetype": "text/x-python",
   "name": "python",
   "nbconvert_exporter": "python",
   "pygments_lexer": "ipython3",
   "version": "3.9.13"
  }
 },
 "nbformat": 4,
 "nbformat_minor": 5
}
